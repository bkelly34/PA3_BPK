{
 "cells": [
  {
   "cell_type": "markdown",
   "id": "c83ec641-ae39-485d-b45c-7f4b89690266",
   "metadata": {
    "tags": []
   },
   "source": [
    "# Writing Functions\n",
    "___\n",
    "**Author:** Ben Kelly \n",
    "**Version:** 1.0  \n",
    "**Semester:** Spring 2024 "
   ]
  },
  {
   "cell_type": "markdown",
   "id": "ac666981-dd01-469e-a894-5b0f16558850",
   "metadata": {},
   "source": [
    "### Problem 1 - Geometry Calculator"
   ]
  },
  {
   "cell_type": "code",
   "execution_count": null,
   "id": "68ce6020-f952-4f7b-9a77-54167f273e50",
   "metadata": {
    "tags": []
   },
   "outputs": [
    {
     "name": "stdin",
     "output_type": "stream",
     "text": [
      "Enter the Shape ('S', 'TRI', 'C', 'R', 'E', or 'TRAP') or enter Q to stop:  E\n",
      "Enter the length of the semi-major axis:  8\n",
      "Enter the length of the semi-minor axis:  7\n"
     ]
    },
    {
     "name": "stdout",
     "output_type": "stream",
     "text": [
      "Area = 175.93\n",
      "Perimeter = 47.18\n"
     ]
    },
    {
     "name": "stdin",
     "output_type": "stream",
     "text": [
      "Enter the Shape ('S', 'TRI', 'C', 'R', 'E', or 'TRAP') or enter Q to stop:  TRAP\n"
     ]
    }
   ],
   "source": [
    "import math\n",
    "\n",
    "def square_calc(x):\n",
    "    area = x ** 2\n",
    "    perimeter = x * 4\n",
    "    return area, perimeter\n",
    "\n",
    "def triangle_calc(b, h):\n",
    "    area = 0.5 * b * h\n",
    "    perimeter = b + h + math.sqrt(b ** 2 + h ** 2)\n",
    "    return area, perimeter\n",
    "\n",
    "def circle_calc(r):\n",
    "    area = math.pi * r ** 2\n",
    "    perimeter = 2 * math.pi * r\n",
    "    return area, perimeter\n",
    "\n",
    "def rectangle_calc(b, h):\n",
    "    area = b * h\n",
    "    perimeter = 2 * (b + h)\n",
    "    return area, perimeter\n",
    "\n",
    "def ellipse_calc(a, b):\n",
    "    area = math.pi * a * b\n",
    "    perimeter = math.pi * (3* (a + b) - math.sqrt((3*a + b)*(a + 3*b)))\n",
    "    return area, perimeter\n",
    "\n",
    "def trapezoid_calc(a, b, h):\n",
    "    area = h * ((a + b) / 2)\n",
    "    perimeter = a + b + 2 * h\n",
    "    return area, perimeter\n",
    "\n",
    "def calculator():\n",
    "    while True:\n",
    "        shape = input(\"Enter the Shape ('S', 'TRI', 'C', 'R', 'E', or 'TRAP') or enter Q to stop: \")\n",
    "        \n",
    "        if shape == 'Q':\n",
    "            print(\"Stop\")\n",
    "            break\n",
    "        elif shape not in [\"S\", \"TRI\", \"C\", \"R\", \"E\", \"TRAP\"]:\n",
    "            print(\"That is not a valid option\")\n",
    "            continue\n",
    "            \n",
    "        if shape == 'S':\n",
    "            side = float(input(\"Enter the side length: \"))\n",
    "            area, perimeter = square_calc(side)\n",
    "        elif shape == 'TRI':\n",
    "            base = float(input(\"Enter the base: \"))\n",
    "            height = float(input(\"Enter the height: \"))\n",
    "            area, perimeter = triangle_calc(base, height)\n",
    "        elif shape == 'C':\n",
    "            radius = float(input(\"Enter the radius: \"))\n",
    "            area, perimeter = circle_calc(radius)\n",
    "        elif shape == 'R':\n",
    "            base = float(input(\"Enter the base: \"))\n",
    "            height = float(input(\"Enter the height: \"))\n",
    "            area, perimeter = rectangle_calc(base, height)\n",
    "        elif shape == 'E':\n",
    "            a = float(input(\"Enter the length of the semi-major axis: \"))\n",
    "            b = float(input(\"Enter the length of the semi-minor axis: \"))\n",
    "            area, perimeter = ellipse_calc(a, b)\n",
    "        elif shape == 'TRAP':\n",
    "            a = float(input(\"Enter the length of the first base: \"))\n",
    "            b = float(input(\"Enter the length of the second base: \"))\n",
    "            height = float(input(\"Enter the height: \"))\n",
    "            area, perimeter = trapezoid_calc(a, b, height)\n",
    "        \n",
    "        print(f\"Area = {area:.2f}\")\n",
    "        print(f\"Perimeter = {perimeter:.2f}\")\n",
    "        \n",
    "calculator()\n",
    "    \n"
   ]
  },
  {
   "cell_type": "markdown",
   "id": "fb8b4066-50f6-4eec-bf0d-af53927531c7",
   "metadata": {},
   "source": [
    "### Problem 2 - Horse Computations"
   ]
  },
  {
   "cell_type": "code",
   "execution_count": 12,
   "id": "1cf807d8-eba1-450c-9bc2-b7758bef6dbb",
   "metadata": {
    "tags": []
   },
   "outputs": [
    {
     "name": "stdin",
     "output_type": "stream",
     "text": [
      "Enter the unit (H or L) or enter Q to stop:  H\n",
      "Enter the amount of hands:  5\n"
     ]
    },
    {
     "name": "stdout",
     "output_type": "stream",
     "text": [
      " This is equal to: 1.67 feet.\n"
     ]
    },
    {
     "name": "stdin",
     "output_type": "stream",
     "text": [
      "Enter the unit (H or L) or enter Q to stop:  L\n",
      "Enter the amount of lengths:  2\n"
     ]
    },
    {
     "name": "stdout",
     "output_type": "stream",
     "text": [
      " This is equal to: 16.00 feet.\n"
     ]
    },
    {
     "name": "stdin",
     "output_type": "stream",
     "text": [
      "Enter the unit (H or L) or enter Q to stop:  Q\n"
     ]
    },
    {
     "name": "stdout",
     "output_type": "stream",
     "text": [
      "Stop\n"
     ]
    }
   ],
   "source": [
    "def convert_hands(hands = 5):\n",
    "    feet = (hands * 4)/12\n",
    "    return feet\n",
    "def convert_length(lengths = 1):\n",
    "    feet = lengths * 8\n",
    "    return feet\n",
    "\n",
    "def computations():\n",
    "    while True:\n",
    "        unit = input(\"Enter the unit (H or L) or enter Q to stop: \")\n",
    "        if unit == 'Q':\n",
    "            print(\"Stop\")\n",
    "            break\n",
    "        elif unit not in ['H', 'L']:\n",
    "            print(\"That is not a valid option\")\n",
    "            continue\n",
    "        \n",
    "        if unit == 'H':\n",
    "            hands = float(input(\"Enter the amount of hands: \"))\n",
    "            feet = convert_hands(hands)\n",
    "        elif unit == 'L':\n",
    "            lengths = float(input(\"Enter the amount of lengths: \"))\n",
    "            feet = convert_length(lengths)\n",
    "        \n",
    "        print(f\" This is equal to: {feet:.2f} feet.\")\n",
    "        \n",
    "computations()\n",
    "        \n",
    "    "
   ]
  },
  {
   "cell_type": "markdown",
   "id": "cc31cb0d-6727-4b3e-9b71-b43f518a8928",
   "metadata": {},
   "source": [
    "### Problem 3 - Mean Temperature"
   ]
  },
  {
   "cell_type": "code",
   "execution_count": 4,
   "id": "060e3851-ad7e-4a1b-8e91-8e268c3c0454",
   "metadata": {
    "tags": []
   },
   "outputs": [
    {
     "name": "stdout",
     "output_type": "stream",
     "text": [
      "The mean temperature for the past 6 days is 74.00 degrees F. \n"
     ]
    }
   ],
   "source": [
    "def meanTemp(temperatures):\n",
    "    days = len(temperatures)\n",
    "    \n",
    "    mean = sum(temperatures) / days\n",
    "    \n",
    "    return days, mean\n",
    "\n",
    "temperatures = 69, 75, 66, 79, 97, 58\n",
    "result = meanTemp(temperatures)\n",
    "\n",
    "if result:\n",
    "    days, mean = result\n",
    "    print(f\"The mean temperature for the past {days} days is {mean:.2f} degrees F. \")"
   ]
  }
 ],
 "metadata": {
  "kernelspec": {
   "display_name": "Python 3 (ipykernel)",
   "language": "python",
   "name": "python3"
  },
  "language_info": {
   "codemirror_mode": {
    "name": "ipython",
    "version": 3
   },
   "file_extension": ".py",
   "mimetype": "text/x-python",
   "name": "python",
   "nbconvert_exporter": "python",
   "pygments_lexer": "ipython3",
   "version": "3.11.5"
  }
 },
 "nbformat": 4,
 "nbformat_minor": 5
}
