{
 "cells": [
  {
   "cell_type": "markdown",
   "id": "c83ec641-ae39-485d-b45c-7f4b89690266",
   "metadata": {
    "tags": []
   },
   "source": [
    "# Writing Functions\n",
    "___\n",
    "**Author:** Ben Kelly \n",
    "**Version:** 1.0  \n",
    "**Semester:** Spring 2024 "
   ]
  },
  {
   "cell_type": "markdown",
   "id": "ac666981-dd01-469e-a894-5b0f16558850",
   "metadata": {},
   "source": [
    "### Problem 1 - Geometry Calculator"
   ]
  },
  {
   "cell_type": "code",
   "execution_count": 8,
   "id": "b4c7d352-c787-463a-9e0f-eeb1da1e03e6",
   "metadata": {},
   "outputs": [
    {
     "name": "stdin",
     "output_type": "stream",
     "text": [
      "Enter the Shape ('S', 'TRI', 'C', 'R', 'E', or 'TRAP') or enter Q to stop:  S\n",
      "Enter the side length:  4\n"
     ]
    },
    {
     "name": "stdout",
     "output_type": "stream",
     "text": [
      "Area = 16.00\n",
      "Perimeter = 16.00\n"
     ]
    },
    {
     "name": "stdin",
     "output_type": "stream",
     "text": [
      "Enter the Shape ('S', 'TRI', 'C', 'R', 'E', or 'TRAP') or enter Q to stop:  TRI\n",
      "Enter the base:  3\n",
      "Enter the height:  4\n"
     ]
    },
    {
     "name": "stdout",
     "output_type": "stream",
     "text": [
      "Area = 6.00\n",
      "Perimeter = 12.00\n"
     ]
    },
    {
     "name": "stdin",
     "output_type": "stream",
     "text": [
      "Enter the Shape ('S', 'TRI', 'C', 'R', 'E', or 'TRAP') or enter Q to stop:  C\n",
      "Enter the radius:  7\n"
     ]
    },
    {
     "name": "stdout",
     "output_type": "stream",
     "text": [
      "Area = 153.94\n",
      "Perimeter = 43.98\n"
     ]
    },
    {
     "name": "stdin",
     "output_type": "stream",
     "text": [
      "Enter the Shape ('S', 'TRI', 'C', 'R', 'E', or 'TRAP') or enter Q to stop:  R\n",
      "Enter the base:  8\n",
      "Enter the height:  5\n"
     ]
    },
    {
     "name": "stdout",
     "output_type": "stream",
     "text": [
      "Area = 40.00\n",
      "Perimeter = 26.00\n"
     ]
    },
    {
     "name": "stdin",
     "output_type": "stream",
     "text": [
      "Enter the Shape ('S', 'TRI', 'C', 'R', 'E', or 'TRAP') or enter Q to stop:  E\n",
      "Enter the length of the semi-major axis:  9\n",
      "Enter the length of the semi-minor axis:  1\n"
     ]
    },
    {
     "name": "stdout",
     "output_type": "stream",
     "text": [
      "Area = 28.27\n",
      "Perimeter = 36.66\n"
     ]
    },
    {
     "name": "stdin",
     "output_type": "stream",
     "text": [
      "Enter the Shape ('S', 'TRI', 'C', 'R', 'E', or 'TRAP') or enter Q to stop:  TRAP\n",
      "Enter the length of the first base:  6.5\n",
      "Enter the length of the second base:  4.9\n",
      "Enter the height:  3\n"
     ]
    },
    {
     "name": "stdout",
     "output_type": "stream",
     "text": [
      "Area = 17.10\n",
      "Perimeter = 22.80\n"
     ]
    },
    {
     "name": "stdin",
     "output_type": "stream",
     "text": [
      "Enter the Shape ('S', 'TRI', 'C', 'R', 'E', or 'TRAP') or enter Q to stop:  Q\n"
     ]
    },
    {
     "name": "stdout",
     "output_type": "stream",
     "text": [
      "Stop\n"
     ]
    }
   ],
   "source": [
    "import math\n",
    "\n",
    "def square_area(x):\n",
    "    area = x ** 2\n",
    "    return area\n",
    "\n",
    "def square_perimeter(x):\n",
    "    perimeter = 4 * x\n",
    "    return perimeter\n",
    "\n",
    "def triangle_area(b, h):\n",
    "    area = 0.5 * b * h\n",
    "    return area\n",
    "\n",
    "def triangle_perimeter(a, b):\n",
    "    perimeter = a + b + math.sqrt(a**2 + b**2)\n",
    "    return perimeter\n",
    "\n",
    "def circle_area(r):\n",
    "    area = math.pi * r ** 2\n",
    "    return area\n",
    "\n",
    "def circle_perimeter(r):\n",
    "    perimeter = 2 * math.pi * r\n",
    "    return perimeter\n",
    "\n",
    "def rectangle_area(b, h):\n",
    "    area = b * h\n",
    "    return area\n",
    "\n",
    "def rectangle_perimeter(b, h):\n",
    "    perimeter = 2 * b + 2 * h\n",
    "    return perimeter\n",
    "\n",
    "def elipse_area(a, b):\n",
    "    area = math.pi * a * b\n",
    "    return area\n",
    "\n",
    "def elipse_perimeter(a, b):\n",
    "    perimeter = math.pi * (3 * (a + b) - math.sqrt((3 * a + b) * (a + 3 * b)))\n",
    "    return perimeter\n",
    "\n",
    "def trapezoid_area(a, b, h):\n",
    "    area = h * ((a + b) / 2)\n",
    "    return area\n",
    "\n",
    "def trapezoid_perimeter(a, b, c, d):\n",
    "    perimeter = a + b + c + d\n",
    "    return perimeter\n",
    "\n",
    "def calculator():\n",
    "    while True:\n",
    "        shape = input(\"Enter the Shape ('S', 'TRI', 'C', 'R', 'E', or 'TRAP') or enter Q to stop: \")\n",
    "        \n",
    "        if shape == 'Q':\n",
    "            print(\"Stop\")\n",
    "            break\n",
    "        elif shape not in [\"S\", \"TRI\", \"C\", \"R\", \"E\", \"TRAP\"]:\n",
    "            print(\"That is not a valid option\")\n",
    "            continue\n",
    "            \n",
    "        if shape == 'S':\n",
    "            side = float(input(\"Enter the side length: \"))\n",
    "            area = square_area(side)\n",
    "            perimeter = square_perimeter(side)\n",
    "        elif shape == 'TRI':\n",
    "            base = float(input(\"Enter the base: \"))\n",
    "            height = float(input(\"Enter the height: \"))\n",
    "            area = triangle_area(base, height)\n",
    "            perimeter = triangle_perimeter(base, height)\n",
    "        elif shape == 'C':\n",
    "            radius = float(input(\"Enter the radius: \"))\n",
    "            area = circle_area(radius)\n",
    "            perimeter = circle_perimeter(radius)\n",
    "        elif shape == 'R':\n",
    "            b = float(input(\"Enter the base: \"))\n",
    "            h = float(input(\"Enter the height: \"))\n",
    "            area = rectangle_area(b, h)\n",
    "            perimeter = rectangle_perimeter(b, h)\n",
    "        elif shape == 'E':\n",
    "            a = float(input(\"Enter the length of the semi-major axis: \"))\n",
    "            b = float(input(\"Enter the length of the semi-minor axis: \"))\n",
    "            area = elipse_area(a, b)\n",
    "            perimeter = elipse_perimeter(a, b)\n",
    "        elif shape == 'TRAP':\n",
    "            a = float(input(\"Enter the length of the first base: \"))\n",
    "            b = float(input(\"Enter the length of the second base: \"))\n",
    "            h = float(input(\"Enter the height: \"))\n",
    "            area = trapezoid_area(a, b, h)\n",
    "            perimeter = trapezoid_perimeter(a, b, a, b) \n",
    "                      \n",
    "        print(f\"Area = {area:.2f}\")\n",
    "        print(f\"Perimeter = {perimeter:.2f}\")\n",
    "\n",
    "calculator()\n"
   ]
  },
  {
   "cell_type": "markdown",
   "id": "fb8b4066-50f6-4eec-bf0d-af53927531c7",
   "metadata": {},
   "source": [
    "### Problem 2 - Horse Computations"
   ]
  },
  {
   "cell_type": "code",
   "execution_count": 12,
   "id": "1cf807d8-eba1-450c-9bc2-b7758bef6dbb",
   "metadata": {
    "tags": []
   },
   "outputs": [
    {
     "name": "stdin",
     "output_type": "stream",
     "text": [
      "Enter the unit (H or L) or enter Q to stop:  H\n",
      "Enter the amount of hands:  5\n"
     ]
    },
    {
     "name": "stdout",
     "output_type": "stream",
     "text": [
      " This is equal to: 1.67 feet.\n"
     ]
    },
    {
     "name": "stdin",
     "output_type": "stream",
     "text": [
      "Enter the unit (H or L) or enter Q to stop:  L\n",
      "Enter the amount of lengths:  2\n"
     ]
    },
    {
     "name": "stdout",
     "output_type": "stream",
     "text": [
      " This is equal to: 16.00 feet.\n"
     ]
    },
    {
     "name": "stdin",
     "output_type": "stream",
     "text": [
      "Enter the unit (H or L) or enter Q to stop:  Q\n"
     ]
    },
    {
     "name": "stdout",
     "output_type": "stream",
     "text": [
      "Stop\n"
     ]
    }
   ],
   "source": [
    "def convert_hands(hands = 5):\n",
    "    feet = (hands * 4)/12\n",
    "    return feet\n",
    "def convert_length(lengths = 1):\n",
    "    feet = lengths * 8\n",
    "    return feet\n",
    "\n",
    "def computations():\n",
    "    while True:\n",
    "        unit = input(\"Enter the unit (H or L) or enter Q to stop: \")\n",
    "        if unit == 'Q':\n",
    "            print(\"Stop\")\n",
    "            break\n",
    "        elif unit not in ['H', 'L']:\n",
    "            print(\"That is not a valid option\")\n",
    "            continue\n",
    "        \n",
    "        if unit == 'H':\n",
    "            hands = float(input(\"Enter the amount of hands: \"))\n",
    "            feet = convert_hands(hands)\n",
    "        elif unit == 'L':\n",
    "            lengths = float(input(\"Enter the amount of lengths: \"))\n",
    "            feet = convert_length(lengths)\n",
    "        \n",
    "        print(f\" This is equal to: {feet:.2f} feet.\")\n",
    "        \n",
    "computations()\n",
    "        \n",
    "    "
   ]
  },
  {
   "cell_type": "markdown",
   "id": "cc31cb0d-6727-4b3e-9b71-b43f518a8928",
   "metadata": {},
   "source": [
    "### Problem 3 - Mean Temperature"
   ]
  },
  {
   "cell_type": "code",
   "execution_count": 4,
   "id": "060e3851-ad7e-4a1b-8e91-8e268c3c0454",
   "metadata": {
    "tags": []
   },
   "outputs": [
    {
     "name": "stdout",
     "output_type": "stream",
     "text": [
      "The mean temperature for the past 6 days is 74.00 degrees F. \n"
     ]
    }
   ],
   "source": [
    "def meanTemp(temperatures):\n",
    "    days = len(temperatures)\n",
    "    \n",
    "    mean = sum(temperatures) / days\n",
    "    \n",
    "    return days, mean\n",
    "\n",
    "temperatures = 69, 75, 66, 79, 97, 58\n",
    "result = meanTemp(temperatures)\n",
    "\n",
    "if result:\n",
    "    days, mean = result\n",
    "    print(f\"The mean temperature for the past {days} days is {mean:.2f} degrees F. \")"
   ]
  }
 ],
 "metadata": {
  "kernelspec": {
   "display_name": "Python 3 (ipykernel)",
   "language": "python",
   "name": "python3"
  },
  "language_info": {
   "codemirror_mode": {
    "name": "ipython",
    "version": 3
   },
   "file_extension": ".py",
   "mimetype": "text/x-python",
   "name": "python",
   "nbconvert_exporter": "python",
   "pygments_lexer": "ipython3",
   "version": "3.11.5"
  }
 },
 "nbformat": 4,
 "nbformat_minor": 5
}
